{
  "nbformat": 4,
  "nbformat_minor": 0,
  "metadata": {
    "colab": {
      "provenance": []
    },
    "kernelspec": {
      "name": "python3",
      "display_name": "Python 3"
    },
    "language_info": {
      "name": "python"
    }
  },
  "cells": [
    {
      "cell_type": "markdown",
      "source": [
        "Web Scraping of yahoo Financial stats \"https://uk.finance.yahoo.com/\" by using **pandas datareader** and **yahoo_fin packages**"
      ],
      "metadata": {
        "id": "RI6C5-Mynt3v"
      }
    },
    {
      "cell_type": "markdown",
      "source": [
        "### Step 1) Import libraries"
      ],
      "metadata": {
        "id": "4R_l6QRvoFCZ"
      }
    },
    {
      "cell_type": "code",
      "source": [
        "## Import all the libraries\n",
        "import pandas as pd\n",
        "from pandas_datareader import data"
      ],
      "metadata": {
        "id": "m044rYuln_n6"
      },
      "execution_count": 11,
      "outputs": []
    },
    {
      "cell_type": "code",
      "source": [
        "##Now requires headers, pandas and pandas-datareader must be updated. Other libraries working with pdr might give you issues until gets updated or you modify the part of the code which retreives data.\n",
        "\n",
        "!pip install --upgrade pandas-datareader"
      ],
      "metadata": {
        "id": "ny6XrQUnruNd"
      },
      "execution_count": null,
      "outputs": []
    },
    {
      "cell_type": "code",
      "source": [
        "## Create variables for the sources\n",
        "start_date = '2010-01-01'\n",
        "end_date = '2020-01-01'\n"
      ],
      "metadata": {
        "id": "QogbnN3bowLJ"
      },
      "execution_count": 12,
      "outputs": []
    },
    {
      "cell_type": "code",
      "source": [
        "## Create dataframe\n",
        "## name extracted from yahoo finance for Apple \n",
        "df = data.DataReader('aapl', data_source='yahoo' , start=start_date, end=end_date )\n"
      ],
      "metadata": {
        "id": "1La9SYVso8NE"
      },
      "execution_count": 13,
      "outputs": []
    },
    {
      "cell_type": "code",
      "source": [
        "## View the data -earliest\n",
        "df.head()"
      ],
      "metadata": {
        "colab": {
          "base_uri": "https://localhost:8080/",
          "height": 238
        },
        "id": "awy2QR0BsOOZ",
        "outputId": "1fe48a56-652b-4039-e055-226af60ca395"
      },
      "execution_count": 14,
      "outputs": [
        {
          "output_type": "execute_result",
          "data": {
            "text/plain": [
              "                High       Low      Open     Close       Volume  Adj Close\n",
              "Date                                                                      \n",
              "2010-01-04  7.660714  7.585000  7.622500  7.643214  493729600.0   6.526021\n",
              "2010-01-05  7.699643  7.616071  7.664286  7.656429  601904800.0   6.537303\n",
              "2010-01-06  7.686786  7.526786  7.656429  7.534643  552160000.0   6.433319\n",
              "2010-01-07  7.571429  7.466071  7.562500  7.520714  477131200.0   6.421426\n",
              "2010-01-08  7.571429  7.466429  7.510714  7.570714  447610800.0   6.464118"
            ],
            "text/html": [
              "\n",
              "  <div id=\"df-7d1e8c50-a564-4e61-84ab-89d37a52b6c0\">\n",
              "    <div class=\"colab-df-container\">\n",
              "      <div>\n",
              "<style scoped>\n",
              "    .dataframe tbody tr th:only-of-type {\n",
              "        vertical-align: middle;\n",
              "    }\n",
              "\n",
              "    .dataframe tbody tr th {\n",
              "        vertical-align: top;\n",
              "    }\n",
              "\n",
              "    .dataframe thead th {\n",
              "        text-align: right;\n",
              "    }\n",
              "</style>\n",
              "<table border=\"1\" class=\"dataframe\">\n",
              "  <thead>\n",
              "    <tr style=\"text-align: right;\">\n",
              "      <th></th>\n",
              "      <th>High</th>\n",
              "      <th>Low</th>\n",
              "      <th>Open</th>\n",
              "      <th>Close</th>\n",
              "      <th>Volume</th>\n",
              "      <th>Adj Close</th>\n",
              "    </tr>\n",
              "    <tr>\n",
              "      <th>Date</th>\n",
              "      <th></th>\n",
              "      <th></th>\n",
              "      <th></th>\n",
              "      <th></th>\n",
              "      <th></th>\n",
              "      <th></th>\n",
              "    </tr>\n",
              "  </thead>\n",
              "  <tbody>\n",
              "    <tr>\n",
              "      <th>2010-01-04</th>\n",
              "      <td>7.660714</td>\n",
              "      <td>7.585000</td>\n",
              "      <td>7.622500</td>\n",
              "      <td>7.643214</td>\n",
              "      <td>493729600.0</td>\n",
              "      <td>6.526021</td>\n",
              "    </tr>\n",
              "    <tr>\n",
              "      <th>2010-01-05</th>\n",
              "      <td>7.699643</td>\n",
              "      <td>7.616071</td>\n",
              "      <td>7.664286</td>\n",
              "      <td>7.656429</td>\n",
              "      <td>601904800.0</td>\n",
              "      <td>6.537303</td>\n",
              "    </tr>\n",
              "    <tr>\n",
              "      <th>2010-01-06</th>\n",
              "      <td>7.686786</td>\n",
              "      <td>7.526786</td>\n",
              "      <td>7.656429</td>\n",
              "      <td>7.534643</td>\n",
              "      <td>552160000.0</td>\n",
              "      <td>6.433319</td>\n",
              "    </tr>\n",
              "    <tr>\n",
              "      <th>2010-01-07</th>\n",
              "      <td>7.571429</td>\n",
              "      <td>7.466071</td>\n",
              "      <td>7.562500</td>\n",
              "      <td>7.520714</td>\n",
              "      <td>477131200.0</td>\n",
              "      <td>6.421426</td>\n",
              "    </tr>\n",
              "    <tr>\n",
              "      <th>2010-01-08</th>\n",
              "      <td>7.571429</td>\n",
              "      <td>7.466429</td>\n",
              "      <td>7.510714</td>\n",
              "      <td>7.570714</td>\n",
              "      <td>447610800.0</td>\n",
              "      <td>6.464118</td>\n",
              "    </tr>\n",
              "  </tbody>\n",
              "</table>\n",
              "</div>\n",
              "      <button class=\"colab-df-convert\" onclick=\"convertToInteractive('df-7d1e8c50-a564-4e61-84ab-89d37a52b6c0')\"\n",
              "              title=\"Convert this dataframe to an interactive table.\"\n",
              "              style=\"display:none;\">\n",
              "        \n",
              "  <svg xmlns=\"http://www.w3.org/2000/svg\" height=\"24px\"viewBox=\"0 0 24 24\"\n",
              "       width=\"24px\">\n",
              "    <path d=\"M0 0h24v24H0V0z\" fill=\"none\"/>\n",
              "    <path d=\"M18.56 5.44l.94 2.06.94-2.06 2.06-.94-2.06-.94-.94-2.06-.94 2.06-2.06.94zm-11 1L8.5 8.5l.94-2.06 2.06-.94-2.06-.94L8.5 2.5l-.94 2.06-2.06.94zm10 10l.94 2.06.94-2.06 2.06-.94-2.06-.94-.94-2.06-.94 2.06-2.06.94z\"/><path d=\"M17.41 7.96l-1.37-1.37c-.4-.4-.92-.59-1.43-.59-.52 0-1.04.2-1.43.59L10.3 9.45l-7.72 7.72c-.78.78-.78 2.05 0 2.83L4 21.41c.39.39.9.59 1.41.59.51 0 1.02-.2 1.41-.59l7.78-7.78 2.81-2.81c.8-.78.8-2.07 0-2.86zM5.41 20L4 18.59l7.72-7.72 1.47 1.35L5.41 20z\"/>\n",
              "  </svg>\n",
              "      </button>\n",
              "      \n",
              "  <style>\n",
              "    .colab-df-container {\n",
              "      display:flex;\n",
              "      flex-wrap:wrap;\n",
              "      gap: 12px;\n",
              "    }\n",
              "\n",
              "    .colab-df-convert {\n",
              "      background-color: #E8F0FE;\n",
              "      border: none;\n",
              "      border-radius: 50%;\n",
              "      cursor: pointer;\n",
              "      display: none;\n",
              "      fill: #1967D2;\n",
              "      height: 32px;\n",
              "      padding: 0 0 0 0;\n",
              "      width: 32px;\n",
              "    }\n",
              "\n",
              "    .colab-df-convert:hover {\n",
              "      background-color: #E2EBFA;\n",
              "      box-shadow: 0px 1px 2px rgba(60, 64, 67, 0.3), 0px 1px 3px 1px rgba(60, 64, 67, 0.15);\n",
              "      fill: #174EA6;\n",
              "    }\n",
              "\n",
              "    [theme=dark] .colab-df-convert {\n",
              "      background-color: #3B4455;\n",
              "      fill: #D2E3FC;\n",
              "    }\n",
              "\n",
              "    [theme=dark] .colab-df-convert:hover {\n",
              "      background-color: #434B5C;\n",
              "      box-shadow: 0px 1px 3px 1px rgba(0, 0, 0, 0.15);\n",
              "      filter: drop-shadow(0px 1px 2px rgba(0, 0, 0, 0.3));\n",
              "      fill: #FFFFFF;\n",
              "    }\n",
              "  </style>\n",
              "\n",
              "      <script>\n",
              "        const buttonEl =\n",
              "          document.querySelector('#df-7d1e8c50-a564-4e61-84ab-89d37a52b6c0 button.colab-df-convert');\n",
              "        buttonEl.style.display =\n",
              "          google.colab.kernel.accessAllowed ? 'block' : 'none';\n",
              "\n",
              "        async function convertToInteractive(key) {\n",
              "          const element = document.querySelector('#df-7d1e8c50-a564-4e61-84ab-89d37a52b6c0');\n",
              "          const dataTable =\n",
              "            await google.colab.kernel.invokeFunction('convertToInteractive',\n",
              "                                                     [key], {});\n",
              "          if (!dataTable) return;\n",
              "\n",
              "          const docLinkHtml = 'Like what you see? Visit the ' +\n",
              "            '<a target=\"_blank\" href=https://colab.research.google.com/notebooks/data_table.ipynb>data table notebook</a>'\n",
              "            + ' to learn more about interactive tables.';\n",
              "          element.innerHTML = '';\n",
              "          dataTable['output_type'] = 'display_data';\n",
              "          await google.colab.output.renderOutput(dataTable, element);\n",
              "          const docLink = document.createElement('div');\n",
              "          docLink.innerHTML = docLinkHtml;\n",
              "          element.appendChild(docLink);\n",
              "        }\n",
              "      </script>\n",
              "    </div>\n",
              "  </div>\n",
              "  "
            ]
          },
          "metadata": {},
          "execution_count": 14
        }
      ]
    },
    {
      "cell_type": "code",
      "source": [
        "## View the data -latest\n",
        "df.tail()"
      ],
      "metadata": {
        "colab": {
          "base_uri": "https://localhost:8080/",
          "height": 238
        },
        "id": "kXIJfmejsblh",
        "outputId": "1da4075b-0f1d-4904-ed65-986a445df295"
      },
      "execution_count": 15,
      "outputs": [
        {
          "output_type": "execute_result",
          "data": {
            "text/plain": [
              "                 High        Low       Open      Close       Volume  Adj Close\n",
              "Date                                                                          \n",
              "2019-12-24  71.222504  70.730003  71.172501  71.067497   48478800.0  69.738724\n",
              "2019-12-26  72.495003  71.175003  71.205002  72.477501   93121200.0  71.122368\n",
              "2019-12-27  73.492500  72.029999  72.779999  72.449997  146266000.0  71.095367\n",
              "2019-12-30  73.172501  71.305000  72.364998  72.879997  144114400.0  71.517326\n",
              "2019-12-31  73.419998  72.379997  72.482498  73.412498  100805600.0  72.039879"
            ],
            "text/html": [
              "\n",
              "  <div id=\"df-93973795-827a-44a9-8006-aa6d09f3ea4a\">\n",
              "    <div class=\"colab-df-container\">\n",
              "      <div>\n",
              "<style scoped>\n",
              "    .dataframe tbody tr th:only-of-type {\n",
              "        vertical-align: middle;\n",
              "    }\n",
              "\n",
              "    .dataframe tbody tr th {\n",
              "        vertical-align: top;\n",
              "    }\n",
              "\n",
              "    .dataframe thead th {\n",
              "        text-align: right;\n",
              "    }\n",
              "</style>\n",
              "<table border=\"1\" class=\"dataframe\">\n",
              "  <thead>\n",
              "    <tr style=\"text-align: right;\">\n",
              "      <th></th>\n",
              "      <th>High</th>\n",
              "      <th>Low</th>\n",
              "      <th>Open</th>\n",
              "      <th>Close</th>\n",
              "      <th>Volume</th>\n",
              "      <th>Adj Close</th>\n",
              "    </tr>\n",
              "    <tr>\n",
              "      <th>Date</th>\n",
              "      <th></th>\n",
              "      <th></th>\n",
              "      <th></th>\n",
              "      <th></th>\n",
              "      <th></th>\n",
              "      <th></th>\n",
              "    </tr>\n",
              "  </thead>\n",
              "  <tbody>\n",
              "    <tr>\n",
              "      <th>2019-12-24</th>\n",
              "      <td>71.222504</td>\n",
              "      <td>70.730003</td>\n",
              "      <td>71.172501</td>\n",
              "      <td>71.067497</td>\n",
              "      <td>48478800.0</td>\n",
              "      <td>69.738724</td>\n",
              "    </tr>\n",
              "    <tr>\n",
              "      <th>2019-12-26</th>\n",
              "      <td>72.495003</td>\n",
              "      <td>71.175003</td>\n",
              "      <td>71.205002</td>\n",
              "      <td>72.477501</td>\n",
              "      <td>93121200.0</td>\n",
              "      <td>71.122368</td>\n",
              "    </tr>\n",
              "    <tr>\n",
              "      <th>2019-12-27</th>\n",
              "      <td>73.492500</td>\n",
              "      <td>72.029999</td>\n",
              "      <td>72.779999</td>\n",
              "      <td>72.449997</td>\n",
              "      <td>146266000.0</td>\n",
              "      <td>71.095367</td>\n",
              "    </tr>\n",
              "    <tr>\n",
              "      <th>2019-12-30</th>\n",
              "      <td>73.172501</td>\n",
              "      <td>71.305000</td>\n",
              "      <td>72.364998</td>\n",
              "      <td>72.879997</td>\n",
              "      <td>144114400.0</td>\n",
              "      <td>71.517326</td>\n",
              "    </tr>\n",
              "    <tr>\n",
              "      <th>2019-12-31</th>\n",
              "      <td>73.419998</td>\n",
              "      <td>72.379997</td>\n",
              "      <td>72.482498</td>\n",
              "      <td>73.412498</td>\n",
              "      <td>100805600.0</td>\n",
              "      <td>72.039879</td>\n",
              "    </tr>\n",
              "  </tbody>\n",
              "</table>\n",
              "</div>\n",
              "      <button class=\"colab-df-convert\" onclick=\"convertToInteractive('df-93973795-827a-44a9-8006-aa6d09f3ea4a')\"\n",
              "              title=\"Convert this dataframe to an interactive table.\"\n",
              "              style=\"display:none;\">\n",
              "        \n",
              "  <svg xmlns=\"http://www.w3.org/2000/svg\" height=\"24px\"viewBox=\"0 0 24 24\"\n",
              "       width=\"24px\">\n",
              "    <path d=\"M0 0h24v24H0V0z\" fill=\"none\"/>\n",
              "    <path d=\"M18.56 5.44l.94 2.06.94-2.06 2.06-.94-2.06-.94-.94-2.06-.94 2.06-2.06.94zm-11 1L8.5 8.5l.94-2.06 2.06-.94-2.06-.94L8.5 2.5l-.94 2.06-2.06.94zm10 10l.94 2.06.94-2.06 2.06-.94-2.06-.94-.94-2.06-.94 2.06-2.06.94z\"/><path d=\"M17.41 7.96l-1.37-1.37c-.4-.4-.92-.59-1.43-.59-.52 0-1.04.2-1.43.59L10.3 9.45l-7.72 7.72c-.78.78-.78 2.05 0 2.83L4 21.41c.39.39.9.59 1.41.59.51 0 1.02-.2 1.41-.59l7.78-7.78 2.81-2.81c.8-.78.8-2.07 0-2.86zM5.41 20L4 18.59l7.72-7.72 1.47 1.35L5.41 20z\"/>\n",
              "  </svg>\n",
              "      </button>\n",
              "      \n",
              "  <style>\n",
              "    .colab-df-container {\n",
              "      display:flex;\n",
              "      flex-wrap:wrap;\n",
              "      gap: 12px;\n",
              "    }\n",
              "\n",
              "    .colab-df-convert {\n",
              "      background-color: #E8F0FE;\n",
              "      border: none;\n",
              "      border-radius: 50%;\n",
              "      cursor: pointer;\n",
              "      display: none;\n",
              "      fill: #1967D2;\n",
              "      height: 32px;\n",
              "      padding: 0 0 0 0;\n",
              "      width: 32px;\n",
              "    }\n",
              "\n",
              "    .colab-df-convert:hover {\n",
              "      background-color: #E2EBFA;\n",
              "      box-shadow: 0px 1px 2px rgba(60, 64, 67, 0.3), 0px 1px 3px 1px rgba(60, 64, 67, 0.15);\n",
              "      fill: #174EA6;\n",
              "    }\n",
              "\n",
              "    [theme=dark] .colab-df-convert {\n",
              "      background-color: #3B4455;\n",
              "      fill: #D2E3FC;\n",
              "    }\n",
              "\n",
              "    [theme=dark] .colab-df-convert:hover {\n",
              "      background-color: #434B5C;\n",
              "      box-shadow: 0px 1px 3px 1px rgba(0, 0, 0, 0.15);\n",
              "      filter: drop-shadow(0px 1px 2px rgba(0, 0, 0, 0.3));\n",
              "      fill: #FFFFFF;\n",
              "    }\n",
              "  </style>\n",
              "\n",
              "      <script>\n",
              "        const buttonEl =\n",
              "          document.querySelector('#df-93973795-827a-44a9-8006-aa6d09f3ea4a button.colab-df-convert');\n",
              "        buttonEl.style.display =\n",
              "          google.colab.kernel.accessAllowed ? 'block' : 'none';\n",
              "\n",
              "        async function convertToInteractive(key) {\n",
              "          const element = document.querySelector('#df-93973795-827a-44a9-8006-aa6d09f3ea4a');\n",
              "          const dataTable =\n",
              "            await google.colab.kernel.invokeFunction('convertToInteractive',\n",
              "                                                     [key], {});\n",
              "          if (!dataTable) return;\n",
              "\n",
              "          const docLinkHtml = 'Like what you see? Visit the ' +\n",
              "            '<a target=\"_blank\" href=https://colab.research.google.com/notebooks/data_table.ipynb>data table notebook</a>'\n",
              "            + ' to learn more about interactive tables.';\n",
              "          element.innerHTML = '';\n",
              "          dataTable['output_type'] = 'display_data';\n",
              "          await google.colab.output.renderOutput(dataTable, element);\n",
              "          const docLink = document.createElement('div');\n",
              "          docLink.innerHTML = docLinkHtml;\n",
              "          element.appendChild(docLink);\n",
              "        }\n",
              "      </script>\n",
              "    </div>\n",
              "  </div>\n",
              "  "
            ]
          },
          "metadata": {},
          "execution_count": 15
        }
      ]
    },
    {
      "cell_type": "markdown",
      "source": [
        "### 2) Yahoo_Fin open source packages to extract stock info"
      ],
      "metadata": {
        "id": "U3PTqEL1undE"
      }
    },
    {
      "cell_type": "code",
      "source": [
        "##Use yahoo_fin packages\n",
        "!pip install yahoo_fin"
      ],
      "metadata": {
        "id": "5qazJdbntAe6"
      },
      "execution_count": null,
      "outputs": []
    },
    {
      "cell_type": "code",
      "source": [
        "## install requests_html packages\n",
        "! pip install requests_html"
      ],
      "metadata": {
        "id": "VwqgImSxtMEC"
      },
      "execution_count": null,
      "outputs": []
    },
    {
      "cell_type": "code",
      "source": [
        "#load library\n",
        "from yahoo_fin import stock_info as si\n"
      ],
      "metadata": {
        "id": "MEuLWjRDuN63"
      },
      "execution_count": 2,
      "outputs": []
    },
    {
      "cell_type": "code",
      "source": [
        "#Pull data from yahoo finance\n",
        "#get the live price\n",
        "si.get_live_price('aapl')"
      ],
      "metadata": {
        "colab": {
          "base_uri": "https://localhost:8080/"
        },
        "id": "jepUff79uiJN",
        "outputId": "75c4807b-8d4d-4c80-fd6a-41c145d72ad2"
      },
      "execution_count": 3,
      "outputs": [
        {
          "output_type": "execute_result",
          "data": {
            "text/plain": [
              "140.67010498046875"
            ]
          },
          "metadata": {},
          "execution_count": 3
        }
      ]
    },
    {
      "cell_type": "code",
      "source": [
        "#round the price\n",
        "round(si.get_live_price('aapl'))"
      ],
      "metadata": {
        "colab": {
          "base_uri": "https://localhost:8080/"
        },
        "id": "cK4feoHtu-Zc",
        "outputId": "d380cbe7-8551-465d-eefd-719062037728"
      },
      "execution_count": 5,
      "outputs": [
        {
          "output_type": "execute_result",
          "data": {
            "text/plain": [
              "141"
            ]
          },
          "metadata": {},
          "execution_count": 5
        }
      ]
    },
    {
      "cell_type": "code",
      "source": [
        "#round the price with one decimal\n",
        "round(si.get_live_price('aapl'), 0)"
      ],
      "metadata": {
        "colab": {
          "base_uri": "https://localhost:8080/"
        },
        "id": "9n-ZmXGmvmyS",
        "outputId": "a24ff99d-240a-471d-fe3c-281f8d206d97"
      },
      "execution_count": 7,
      "outputs": [
        {
          "output_type": "execute_result",
          "data": {
            "text/plain": [
              "141.0"
            ]
          },
          "metadata": {},
          "execution_count": 7
        }
      ]
    },
    {
      "cell_type": "code",
      "source": [
        "#Extract income statement\n",
        "si.get_income_statement('aapl', yearly=True)"
      ],
      "metadata": {
        "id": "WVRe9zczvMwq"
      },
      "execution_count": null,
      "outputs": []
    },
    {
      "cell_type": "code",
      "source": [
        "##Extract analyst info\n",
        "si.get_analysts_info('aapl')"
      ],
      "metadata": {
        "id": "6iTJ773vv5OJ"
      },
      "execution_count": null,
      "outputs": []
    },
    {
      "cell_type": "code",
      "source": [
        "## extract dividens info\n",
        "si.get_dividends('aapl', start_date=start_date, end_date=end_date)"
      ],
      "metadata": {
        "id": "Cb3ukS8ywMxo"
      },
      "execution_count": null,
      "outputs": []
    },
    {
      "cell_type": "code",
      "source": [
        "## create a dtaframe for visualisation\n",
        "df = si.get_dividends('aapl', start_date=start_date, end_date=end_date)"
      ],
      "metadata": {
        "id": "XOVrDLChwsOX"
      },
      "execution_count": 17,
      "outputs": []
    },
    {
      "cell_type": "code",
      "source": [
        "##plot chart\n",
        "df['dividend'].plot(kind='line', figsize=(10,6))\n"
      ],
      "metadata": {
        "colab": {
          "base_uri": "https://localhost:8080/",
          "height": 370
        },
        "id": "_EkBvm6dwypD",
        "outputId": "d53c223c-bade-4d6e-95e4-bbc4f909cdce"
      },
      "execution_count": 18,
      "outputs": [
        {
          "output_type": "execute_result",
          "data": {
            "text/plain": [
              "<matplotlib.axes._subplots.AxesSubplot at 0x7f02a2e31390>"
            ]
          },
          "metadata": {},
          "execution_count": 18
        },
        {
          "output_type": "display_data",
          "data": {
            "text/plain": [
              "<Figure size 720x432 with 1 Axes>"
            ],
            "image/png": "[encoded data removed]"
          },
          "metadata": {
            "needs_background": "light"
          }
        }
      ]
    },
    {
      "cell_type": "code",
      "source": [
        "## Extract holders info\n",
        "si.get_holders('aapl')"
      ],
      "metadata": {
        "colab": {
          "base_uri": "https://localhost:8080/"
        },
        "id": "_E5QGNIixPfg",
        "outputId": "3ff44f97-98f7-4a44-e203-62b4ee0d9c7a"
      },
      "execution_count": 19,
      "outputs": [
        {
          "output_type": "execute_result",
          "data": {
            "text/plain": [
              "{'Major Holders':         0                                      1\n",
              " 0   0.07%        % of Shares Held by All Insider\n",
              " 1  59.58%       % of Shares Held by Institutions\n",
              " 2  59.62%        % of Float Held by Institutions\n",
              " 3    5455  Number of Institutions Holding Shares,\n",
              " 'Direct Holders (Forms 3 and 4)':                           Holder      Shares Date Reported  % Out         Value\n",
              " 0     Vanguard Group, Inc. (The)  1277319054  Jun 29, 2022  7.95%  179271737025\n",
              " 1                 Blackrock Inc.  1028688317  Jun 29, 2022  6.40%  144376411569\n",
              " 2        Berkshire Hathaway, Inc   894802319  Jun 29, 2022  5.57%  125585510933\n",
              " 3       State Street Corporation   598178524  Jun 29, 2022  3.72%   83954359494\n",
              " 4                       FMR, LLC   344317974  Jun 29, 2022  2.14%   48325029752\n",
              " 5  Geode Capital Management, LLC   278256192  Jun 29, 2022  1.73%   39053258245\n",
              " 6  Price (T.Rowe) Associates Inc   237910783  Jun 29, 2022  1.48%   33390779846\n",
              " 7                 Morgan Stanley   182450565  Jun 29, 2022  1.14%   25606937911\n",
              " 8     Northern Trust Corporation   179828922  Jun 29, 2022  1.12%   25238990300\n",
              " 9    Bank of America Corporation   149133915  Jun 29, 2022  0.93%   20930945880,\n",
              " 'Top Institutional Holders':                                               Holder  ...        Value\n",
              " 0             Vanguard Total Stock Market Index Fund  ...  63550026626\n",
              " 1                            Vanguard 500 Index Fund  ...  47765805012\n",
              " 2                            Fidelity 500 Index Fund  ...  23145638941\n",
              " 3                             SPDR S&P 500 ETF Trust  ...  23249292895\n",
              " 4        Invesco ETF Tr-Invesco QQQ Tr, Series 1 ETF  ...  19902069459\n",
              " 5                           iShares Core S&P 500 ETF  ...  19111146227\n",
              " 6                         Vanguard Growth Index Fund  ...  17400728913\n",
              " 7  Vanguard Institutional Index Fund-Institutiona...  ...  15988056418\n",
              " 8         Vanguard Information Technology Index Fund  ...  10355263589\n",
              " 9                 Select Sector SPDR Fund-Technology  ...   8437296124\n",
              " \n",
              " [10 rows x 5 columns]}"
            ]
          },
          "metadata": {},
          "execution_count": 19
        }
      ]
    }
  ]
}